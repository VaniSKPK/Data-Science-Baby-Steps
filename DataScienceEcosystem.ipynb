{
 "cells": [
  {
   "cell_type": "markdown",
   "id": "23390364-f8fa-4de5-8d4a-30fc3866c2af",
   "metadata": {},
   "source": [
    "Data Science Tools and Ecosystem"
   ]
  },
  {
   "cell_type": "markdown",
   "id": "9967a5e9-a33b-4b54-87f3-0cffff516bbd",
   "metadata": {},
   "source": [
    "In this notebook data science tools and ecosystem are summarised"
   ]
  },
  {
   "cell_type": "markdown",
   "id": "5d8260be-c791-4d08-a510-8034557bdcb3",
   "metadata": {},
   "source": [
    "**Objectives**\n",
    "- summarise data science tools and ecosystem\n",
    "- list some of the popular languages\n",
    "- list some commonly used libraries\n",
    "- list some opensource tools\n",
    "- introducing simple arithmetic expressions\n"
   ]
  },
  {
   "cell_type": "markdown",
   "id": "59647206-458e-4bbc-87c8-434c999b6cd3",
   "metadata": {},
   "source": [
    "##Author\n",
    "Vani Somakumar"
   ]
  },
  {
   "cell_type": "markdown",
   "id": "d75fa48b-b61f-446a-850f-a4a3c986d6d5",
   "metadata": {},
   "source": [
    "# Some of the popular languages Data Scientists use are:\n",
    "1.Python\n",
    "2.R\n",
    "3.SQL"
   ]
  },
  {
   "cell_type": "markdown",
   "id": "2e9cc546-ebf0-40b5-9cf0-c47c047b62a8",
   "metadata": {},
   "source": [
    "# Some of the commonly used libraries by Data Scientists include:\n",
    "1.NumPy\n",
    "2.Pandas\n",
    "3.Scikit-learn\n",
    "4.Matplotlib"
   ]
  },
  {
   "cell_type": "markdown",
   "id": "69455f9a-408f-4fbc-bba6-649ea8d75adb",
   "metadata": {},
   "source": [
    "# |Data Science Tools|\n",
    ":-:\n",
    "|Git|\n",
    "|Eclipse IDE|\n",
    "|Visual Studio Code\n"
   ]
  },
  {
   "cell_type": "markdown",
   "id": "a87de352-7b7f-4c24-875f-ab26de5e1aa1",
   "metadata": {},
   "source": [
    "### Below are a few expressions of evaluating arithmetic expressions in Python"
   ]
  },
  {
   "cell_type": "code",
   "execution_count": 4,
   "id": "429997f5-980b-405d-9375-8e5d0e10333f",
   "metadata": {},
   "outputs": [
    {
     "data": {
      "text/plain": [
       "17"
      ]
     },
     "execution_count": 4,
     "metadata": {},
     "output_type": "execute_result"
    }
   ],
   "source": [
    "#This is a simple arithmetic expression to multiply and then add integers\n",
    "(3*4)+5"
   ]
  },
  {
   "cell_type": "code",
   "execution_count": 5,
   "id": "80ab64be-ed1c-4e4d-8eba-af314d9a68fb",
   "metadata": {},
   "outputs": [
    {
     "data": {
      "text/plain": [
       "3.3333333333333335"
      ]
     },
     "execution_count": 5,
     "metadata": {},
     "output_type": "execute_result"
    }
   ],
   "source": [
    "#This will convert 200 minutes to hours by dividing by 60\n",
    "200/60"
   ]
  },
  {
   "cell_type": "code",
   "execution_count": null,
   "id": "a5e9b94d-7921-4a93-b91d-2a4c853ab333",
   "metadata": {},
   "outputs": [],
   "source": []
  }
 ],
 "metadata": {
  "kernelspec": {
   "display_name": "Python [conda env:base] *",
   "language": "python",
   "name": "conda-base-py"
  },
  "language_info": {
   "codemirror_mode": {
    "name": "ipython",
    "version": 3
   },
   "file_extension": ".py",
   "mimetype": "text/x-python",
   "name": "python",
   "nbconvert_exporter": "python",
   "pygments_lexer": "ipython3",
   "version": "3.13.5"
  }
 },
 "nbformat": 4,
 "nbformat_minor": 5
}
